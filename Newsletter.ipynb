{
 "cells": [
  {
   "cell_type": "code",
   "execution_count": null,
   "id": "4286e55c-a678-47cf-b4ee-93fa1749914b",
   "metadata": {},
   "outputs": [],
   "source": [
    "from newsletter import make_newsletter"
   ]
  },
  {
   "cell_type": "code",
   "execution_count": null,
   "id": "c3a7723a-3ad7-4384-ac44-d53d74f9f958",
   "metadata": {
    "tags": []
   },
   "outputs": [],
   "source": [
    "make_newsletter(31)"
   ]
  },
  {
   "cell_type": "code",
   "execution_count": null,
   "id": "72c4bf2e-f6ea-4e79-a735-ac0850d0decf",
   "metadata": {},
   "outputs": [],
   "source": []
  }
 ],
 "metadata": {
  "kernelspec": {
   "display_name": "Python 3 (ipykernel)",
   "language": "python",
   "name": "python3"
  },
  "language_info": {
   "codemirror_mode": {
    "name": "ipython",
    "version": 3
   },
   "file_extension": ".py",
   "mimetype": "text/x-python",
   "name": "python",
   "nbconvert_exporter": "python",
   "pygments_lexer": "ipython3",
   "version": "3.9.13"
  }
 },
 "nbformat": 4,
 "nbformat_minor": 5
}
