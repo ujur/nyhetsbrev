{
 "cells": [
  {
   "cell_type": "markdown",
   "id": "7ea65bae-07ed-456f-aac6-7587823bc47f",
   "metadata": {},
   "source": [
    "# Newsletter generation\n",
    "Run the entire notebook with the fast-forward button.\n",
    "The newsletter is saved to a file named after today's date, like 2022-11-27.html."
   ]
  },
  {
   "cell_type": "markdown",
   "id": "0de615f6-8aed-4cc0-b8af-26ba08a59f27",
   "metadata": {},
   "source": [
    "## Update the program files\n",
    "`git reset` will discard any changes to the local files."
   ]
  },
  {
   "cell_type": "code",
   "execution_count": null,
   "id": "5781ebec-447b-4150-85a5-f66ace396b7e",
   "metadata": {},
   "outputs": [],
   "source": [
    "!git reset --hard\n",
    "!git pull\n",
    "!pip install -r requirements.txt\n"
   ]
  },
  {
   "cell_type": "markdown",
   "id": "8c605cb0-a030-42dc-a0a4-8af72376ef4d",
   "metadata": {},
   "source": [
    "## Make the newsletter"
   ]
  },
  {
   "cell_type": "code",
   "execution_count": null,
   "id": "4286e55c-a678-47cf-b4ee-93fa1749914b",
   "metadata": {},
   "outputs": [],
   "source": [
    "from newsletter import make_newsletter"
   ]
  },
  {
   "cell_type": "code",
   "execution_count": null,
   "id": "c3a7723a-3ad7-4384-ac44-d53d74f9f958",
   "metadata": {
    "tags": []
   },
   "outputs": [],
   "source": [
    "make_newsletter(31)"
   ]
  }
 ],
 "metadata": {
  "kernelspec": {
   "display_name": "Python 3 (ipykernel)",
   "language": "python",
   "name": "python3"
  },
  "language_info": {
   "codemirror_mode": {
    "name": "ipython",
    "version": 3
   },
   "file_extension": ".py",
   "mimetype": "text/x-python",
   "name": "python",
   "nbconvert_exporter": "python",
   "pygments_lexer": "ipython3",
   "version": "3.9.13"
  }
 },
 "nbformat": 4,
 "nbformat_minor": 5
}
